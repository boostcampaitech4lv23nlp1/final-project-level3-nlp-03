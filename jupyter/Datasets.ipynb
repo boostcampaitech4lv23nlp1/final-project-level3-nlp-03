{
 "cells": [
  {
   "cell_type": "code",
   "execution_count": null,
   "metadata": {},
   "outputs": [],
   "source": [
    "import pandas as pd\n",
    "import json\n",
    "import torch\n",
    "from transformers import LayoutLMv2FeatureExtractor,AutoTokenizer"
   ]
  },
  {
   "cell_type": "code",
   "execution_count": null,
   "metadata": {},
   "outputs": [],
   "source": [
    "from datasets import load_dataset\n",
    "dataset = load_dataset(\"json\", data_files=\"/opt/ml/docvqa/data/train/train_v1.0.json\", field=\"data\")"
   ]
  },
  {
   "cell_type": "code",
   "execution_count": 1,
   "metadata": {},
   "outputs": [
    {
     "name": "stderr",
     "output_type": "stream",
     "text": [
      "/opt/conda/lib/python3.8/site-packages/tqdm/auto.py:22: TqdmWarning: IProgress not found. Please update jupyter and ipywidgets. See https://ipywidgets.readthedocs.io/en/stable/user_install.html\n",
      "  from .autonotebook import tqdm as notebook_tqdm\n"
     ]
    }
   ],
   "source": [
    "# If Error in \"feature_extractor\". In Ternimal Type : apt install tesseract-ocr\n",
    "from transformers import LayoutLMv2FeatureExtractor\n",
    "from PIL import Image\n",
    "\n",
    "feature_extractor = LayoutLMv2FeatureExtractor(apply_ocr=False)\n",
    "\n",
    "def normalize_bbox(bboxes, width, height):\n",
    "    x_min = min(bboxes[::2])\n",
    "    x_max = max(bboxes[::2])\n",
    "    y_min = min(bboxes[1::2])\n",
    "    y_max = max(bboxes[1::2])\n",
    "    a = [bboxes[0],bboxes[1],bboxes[4],bboxes[5]]\n",
    "    return [\n",
    "         int(1000*(a[0] / width)),\n",
    "         int(1000*(a[1] / height)),\n",
    "         int(1000*(a[2] / width)),\n",
    "         int(1000*(a[3] / height)),\n",
    "     ]\n",
    "\n",
    "def get_ocr_words_and_boxes(examples):\n",
    "    \n",
    "  # get a batch of document images\n",
    "  images = [Image.open('/opt/ml/docvqa/data/train/' + image_file).convert(\"RGB\") for image_file in examples['image']]\n",
    "  # resize every image to 224x224 + apply tesseract to get words + normalized boxes\n",
    "  encoded_inputs = feature_extractor(images)\n",
    "  input_words = []\n",
    "  bboxes = []\n",
    "  for id in examples['image']:\n",
    "    tmp = id[10:-4] + '.json'\n",
    "    input_word = []\n",
    "    bbox = []\n",
    "    with open(f'/opt/ml/docvqa/data/train/ocr_results/{tmp}') as f:\n",
    "      words = json.load(f)\n",
    "    width = words['recognitionResults'][0]['width']\n",
    "    height = words['recognitionResults'][0]['height']\n",
    "    for i in range(len(words['recognitionResults'][0]['lines'])):\n",
    "      l = len(words['recognitionResults'][0]['lines'][i]['text'].split())\n",
    "      tmp_box = normalize_bbox(words['recognitionResults'][0]['lines'][i]['boundingBox'], width, height) \n",
    "      input_word.extend(words['recognitionResults'][0]['lines'][i]['text'].split())\n",
    "      bbox.extend([tmp_box]*l)\n",
    "    input_words.append(input_word)\n",
    "    bboxes.append(bbox)\n",
    "\n",
    "  examples['image'] = encoded_inputs.pixel_values\n",
    "  examples['words'] = input_words\n",
    "  examples['boxes'] = bboxes\n",
    "\n",
    "  return examples"
   ]
  },
  {
   "cell_type": "code",
   "execution_count": 36,
   "metadata": {},
   "outputs": [
    {
     "name": "stderr",
     "output_type": "stream",
     "text": [
      "100%|██████████| 1234/1234 [53:49<00:00,  2.62s/ba]\n"
     ]
    }
   ],
   "source": [
    "dataset_with_ocr = dataset.map(get_ocr_words_and_boxes, batched=True, batch_size=32)"
   ]
  },
  {
   "cell_type": "code",
   "execution_count": 37,
   "metadata": {},
   "outputs": [
    {
     "data": {
      "text/plain": [
       "[[339, 14, 585, 62],\n",
       " [637, 16, 663, 26],\n",
       " [637, 16, 663, 26],\n",
       " [410, 99, 586, 116],\n",
       " [410, 99, 586, 116],\n",
       " [410, 99, 586, 116],\n",
       " [149, 145, 202, 159],\n",
       " [149, 145, 202, 159],\n",
       " [233, 129, 329, 164],\n",
       " [235, 163, 380, 202],\n",
       " [235, 163, 380, 202],\n",
       " [146, 202, 388, 221],\n",
       " [146, 202, 388, 221],\n",
       " [146, 202, 388, 221],\n",
       " [397, 197, 574, 221],\n",
       " [397, 197, 574, 221],\n",
       " [151, 233, 313, 248],\n",
       " [151, 233, 313, 248],\n",
       " [151, 233, 313, 248],\n",
       " [148, 261, 241, 279],\n",
       " [253, 257, 392, 280],\n",
       " [253, 257, 392, 280],\n",
       " [151, 322, 241, 336],\n",
       " [151, 322, 241, 336],\n",
       " [611, 351, 703, 369],\n",
       " [800, 352, 846, 370],\n",
       " [149, 381, 283, 398],\n",
       " [149, 381, 283, 398],\n",
       " [601, 373, 666, 397],\n",
       " [147, 411, 269, 427],\n",
       " [147, 411, 269, 427],\n",
       " [149, 439, 278, 456],\n",
       " [149, 439, 278, 456],\n",
       " [132, 465, 335, 483],\n",
       " [132, 465, 335, 483],\n",
       " [139, 495, 322, 508],\n",
       " [139, 495, 322, 508],\n",
       " [143, 520, 305, 536],\n",
       " [143, 520, 305, 536],\n",
       " [142, 550, 298, 562],\n",
       " [142, 550, 298, 562],\n",
       " [607, 552, 665, 578],\n",
       " [231, 618, 756, 636],\n",
       " [231, 618, 756, 636],\n",
       " [231, 618, 756, 636],\n",
       " [231, 618, 756, 636],\n",
       " [231, 618, 756, 636],\n",
       " [231, 618, 756, 636],\n",
       " [231, 618, 756, 636],\n",
       " [231, 618, 756, 636],\n",
       " [900, 758, 866, 847],\n",
       " [900, 758, 866, 847],\n",
       " [882, 946, 900, 958],\n",
       " [882, 946, 900, 958],\n",
       " [220, 979, 776, 996],\n",
       " [220, 979, 776, 996]]"
      ]
     },
     "execution_count": 37,
     "metadata": {},
     "output_type": "execute_result"
    }
   ],
   "source": [
    "dataset_with_ocr['train'][0]['boxes']"
   ]
  },
  {
   "cell_type": "code",
   "execution_count": 38,
   "metadata": {},
   "outputs": [],
   "source": [
    "dataset_with_ocr = dataset_with_ocr['train']"
   ]
  },
  {
   "cell_type": "code",
   "execution_count": 39,
   "metadata": {},
   "outputs": [],
   "source": [
    "def answer(words_list, answer_list):  \n",
    "    matches = []\n",
    "    start_indices = []\n",
    "    end_indices = []\n",
    "    for idx, i in enumerate(range(len(words_list))):\n",
    "        if words_list[i] == answer_list[0] and words_list[i:i+len(answer_list)] == answer_list:\n",
    "            matches.append(answer_list)\n",
    "            start_indices.append(idx)\n",
    "            end_indices.append(idx + len(answer_list) - 1)\n",
    "    if matches:\n",
    "      return matches[0], start_indices[0], end_indices[0]\n",
    "    else:\n",
    "      return None, 0, 0"
   ]
  },
  {
   "cell_type": "code",
   "execution_count": 40,
   "metadata": {},
   "outputs": [],
   "source": [
    "tokenizer = AutoTokenizer.from_pretrained(\"microsoft/layoutlmv2-base-uncased\")"
   ]
  },
  {
   "cell_type": "code",
   "execution_count": 129,
   "metadata": {},
   "outputs": [],
   "source": [
    "i = 4\n",
    "encoding = tokenizer(dataset_with_ocr[i]['question'], dataset_with_ocr[i]['words'],boxes = dataset_with_ocr[i]['boxes'])"
   ]
  },
  {
   "cell_type": "code",
   "execution_count": 130,
   "metadata": {},
   "outputs": [],
   "source": [
    "match, word_idx_start, word_idx_end = answer(dataset_with_ocr[i]['words'], dataset_with_ocr[i]['answers'][0])"
   ]
  },
  {
   "cell_type": "code",
   "execution_count": 132,
   "metadata": {},
   "outputs": [
    {
     "data": {
      "text/plain": [
       "['Review of existing Brainstorming Ideas/483']"
      ]
     },
     "execution_count": 132,
     "metadata": {},
     "output_type": "execute_result"
    }
   ],
   "source": [
    "dataset_with_ocr[i]['answers']"
   ]
  },
  {
   "cell_type": "code",
   "execution_count": 128,
   "metadata": {},
   "outputs": [
    {
     "name": "stdout",
     "output_type": "stream",
     "text": [
      "Match: None\n",
      "Answer: ['Review of existing Brainstorming Ideas/483']\n",
      "Word idx start: 0\n",
      "Word idx end: 0\n"
     ]
    }
   ],
   "source": [
    "print(\"Match:\", match)\n",
    "print(\"Answer:\", dataset_with_ocr[i]['answers'])\n",
    "print(\"Word idx start:\", word_idx_start)\n",
    "print(\"Word idx end:\", word_idx_end)"
   ]
  },
  {
   "cell_type": "code",
   "execution_count": null,
   "metadata": {},
   "outputs": [],
   "source": []
  }
 ],
 "metadata": {
  "interpreter": {
   "hash": "d4d1e4263499bec80672ea0156c357c1ee493ec2b1c70f0acce89fc37c4a6abe"
  },
  "kernelspec": {
   "display_name": "Python 3.8.5 ('base')",
   "language": "python",
   "name": "python3"
  },
  "language_info": {
   "codemirror_mode": {
    "name": "ipython",
    "version": 3
   },
   "file_extension": ".py",
   "mimetype": "text/x-python",
   "name": "python",
   "nbconvert_exporter": "python",
   "pygments_lexer": "ipython3",
   "version": "3.8.5 (default, Sep  4 2020, 07:30:14) \n[GCC 7.3.0]"
  },
  "orig_nbformat": 4
 },
 "nbformat": 4,
 "nbformat_minor": 2
}
